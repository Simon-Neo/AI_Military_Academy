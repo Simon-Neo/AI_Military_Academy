{
  "nbformat": 4,
  "nbformat_minor": 0,
  "metadata": {
    "colab": {
      "name": "4주차 과제.ipynb",
      "provenance": [],
      "collapsed_sections": [],
      "include_colab_link": true
    },
    "kernelspec": {
      "name": "python3",
      "display_name": "Python 3"
    }
  },
  "cells": [
    {
      "cell_type": "markdown",
      "metadata": {
        "id": "view-in-github",
        "colab_type": "text"
      },
      "source": [
        "<a href=\"https://colab.research.google.com/github/Simon-Neo/AI_Military_Academy/blob/master/4%EC%A3%BC%EC%B0%A8_%EA%B3%BC%EC%A0%9C.ipynb\" target=\"_parent\"><img src=\"https://colab.research.google.com/assets/colab-badge.svg\" alt=\"Open In Colab\"/></a>"
      ]
    },
    {
      "cell_type": "markdown",
      "metadata": {
        "id": "wxkL6PjwsI6L",
        "colab_type": "text"
      },
      "source": [
        "# 4주차 과제\n",
        "- 용어 정리\n",
        "- 딥러닝 강의 클론 코딩\n",
        "- 딥러닝 순전파 & 역전파 계산"
      ]
    },
    {
      "cell_type": "markdown",
      "metadata": {
        "id": "ixEtDe6_uGgI",
        "colab_type": "text"
      },
      "source": [
        "## 1. 용어 정리\n",
        "\n",
        "다음 제시된 단어의 정의(설명)를 정리하여 작성 하세요.\n",
        "\n",
        "* 2문장 이상 작성 해 주세요. \n",
        "* 주제(단어)와 크게 벗어나지만 않는다면 정답처리 됩니다.\n",
        "* 강의 뿐 아니라 기타 레퍼런스를 참고하여 작성하셔도 됩니다. (기타 레퍼런스를 참고하신 경우, 해당 레퍼런스를 정리하여 하단에 작성해 주세요.)\n"
      ]
    },
    {
      "cell_type": "markdown",
      "metadata": {
        "id": "0lfwat8eurKZ",
        "colab_type": "text"
      },
      "source": [
        "__(예시)__\n",
        "### 심층 신경망\n",
        ": 입력층과 출력층 사이에 여러 개의 은닉층들로 이뤄진 인공신경망이다. 심층 신경망은 일반적으로 인공신경망과 마찬가지로 복잡한 비선형 관계들을 모델링 할 수 있다. 신층신경망의 목적은 분류 및 수치예측을 하기 위함이고 이미지 트레이닝이나 문자인식과 같은 분야에서 매우 유용하게 쓰이고 있다."
      ]
    },
    {
      "cell_type": "markdown",
      "metadata": {
        "id": "Y8YJNKG_v65A",
        "colab_type": "text"
      },
      "source": [
        "### MCP 뉴런\n",
        ": 1943년 워렌 맥컬럭과 월터 피츠가 제안한 MCP 뉴런(McCullock-Pitts Neuron, 워렌 맥컬록 뉴런)이 가장 잘 알려진 인공지능의 기초 뉴런 모델이다. MCP 뉴런은 단순한 논리곱(AND), 논리합(OR) 등의 논리 규현을 할 수 있었다. 인간 두뇌의 잠재적인 능력을 형상화해 뉴런과 같은 단순한 요소를 연결하여 컴퓨팅 능력을 확장할 수 있다고 생각하였고 추후에 나올 퍼셉트론에 영향을 주었다.\n",
        "\n",
        "(출처 : 빅데이터 분석과 활용 / 제이펍)\n",
        "\n",
        "### 퍼셉트론\n",
        ": 퍼셉트론은 다수의 신호를 입력으로 받아 하나의 신호를 출력합니다. 여기서 말하는 신호란 전류나 강물처럼 흐름이라 보면 되며 전류가 전선을 타고 흐르는 전자를 내보내듯, 퍼셉트론 신호도 흐름을 만들고 정보를 앞으로 전달합니다. 퍼셉트론 신호는 1 또는 0으로  흐른다 안흐른다 두가지 값을 가질 수 있습니다. 입력과 출력 값이 있으며 입력 신호에 가중치 값을 곱해서 출력 값을 산출 합니다. 계산된 출력 값이 임계값(세타)보다 크다면 동작한다 아니라면 동장하지 않는다고 봅니다.\n",
        "y = 1 (w1x1 + w2x2 > 세타)\n",
        "y = 0 (w1x1 + w2x2 <= 세타)\n",
        "\n",
        "(출처 : 밑바닥부터 시작하는 딥러닝 1)\n",
        "\n",
        "### 역전파\n",
        ": 순전파에서는 가중치 매개변수에 대한  손실 함수의 기울기를 수치 미분을 통해 구했지만 계산 시간이 오래 걸린다는 단점이 있습니다. 그래서 가중치 매개변수의 기울기를 효율적으로 구하기위해 역전파 알고리즘이 등장하였습니다. 역방향으로 오차를 전파시키면서 각층의 가중치를 업데이트하고 최적의 학습 결과를 찾아가는 방법입니다.\n",
        "\n",
        "(출처 : https://m.blog.naver.com/samsjang/221033626685 )\n",
        "\n",
        "### 강화학습\n",
        ": 사람이 시행착오를 겪으며 배우듯 컴퓨터도 시행착오 과정에서 스스로 학습하게 하려는 분야가 있습니다. 이는 '가르침'에 의존하는 '지도 학습'과는 다른 분야로, 강화학습(reinforcement learning)이라 합니다.\n",
        " \n",
        " 강화학습에서는 에이전트라는 것이 환경에 맞게 행동을 선택하고, 그 행동에 의해서 환경이 변한다는 게 기본적인 틀입니다. 환경이 변화하면 에이전트는 어떠한 보상을 얻습니다. 강화학습의 목적은 더 나은 보상을 받는 쪽으로 에이전트의 행동 지침을 바로잡는 것입니다.\n",
        "\n",
        "(출처 : 밑바닥부터 시작하는 딥러닝 1)\n",
        "\n",
        "### 과적합\n",
        ": 과적합(Overfitting)은 학습데이터를 과하게 잘 학습하는 것을 뜻합니다. 일반적으로 학습 데이터는 실제 데이터의 부분집합인 경우가 대부분이라서 과하게 데이터를 학습하게 된다면 학습 데이터에 대해서는 오차가 감소하지만, 실제 데이터에 대해서는 오차가 증가하는 지점이 존재할 수 있다. 예를 들어, 학습데이터로 노란고양이 사진을 과적합 됐다면 다른 고양이 흰색 또는 검정색 고양이를 고양이로 판단하지 못하는 문제가 생긴다고 비유할 수 있겠다.\n",
        "\n",
        "\n",
        "(출처 : https://untitledtblog.tistory.com/68)\n",
        "\n",
        "### 차원의 저주\n",
        ": 데이터의 차원(Dimension)이 증가할수록 해당 공간의 크기(부피)가 기하급수적으로 증가하기 때문에 동일한 개수의 데이터의 밀도는 차원이 증가할수록 급속도로 희박해진다. 따라서, 차원이 증가할수록 데이터의 분포 분석 또는 모델추정에 필요한 샘플 데이터의 개수가 기하급수적으로 증가하게 되는데 이러한 어려움을 표현한 용어가 '차원의 저주'이다. 따라서 데이터 분석 등의 차원에 관계된 문제에 있어서는 어떻게든 핵심이 되는 파라미터만을 선별하여 문제의 차원을 낮추고자 하는 것이 일반적이다.\n",
        "\n",
        "(출처 : https://darkpgmr.tistory.com/145)"
      ]
    },
    {
      "cell_type": "markdown",
      "metadata": {
        "id": "d-zfFXLCy6jD",
        "colab_type": "text"
      },
      "source": [
        "## 2. 딥러닝 강의 클론 코딩\n",
        "\n",
        "####__퍼셉트론 구조 구현하기__ \n",
        "딥러닝 강의(__딥러닝 원리[1] 3:15 ~ 5:15 부분__)를 보고 코드를 따라 치며 출력 결과를 만드세요.\n",
        " \n",
        "\n",
        "* 하나의 코드셀에 해당 코드를 한번에 다 적어서 실행해주세요 (__그렇게 하지 않을 경우, 아래 이미지와 같은 출력값이 나오지 않을 수 있습니다__)\n",
        "\n",
        "*__주의!__ 실제로 코딩해서 출력해보면 강의에 나온 출력 결과와 다르게 나옵니다!!\n"
      ]
    },
    {
      "cell_type": "markdown",
      "metadata": {
        "id": "wcc5mzI9oZ7r",
        "colab_type": "text"
      },
      "source": [
        "![대체 텍스트](https://www.notion.so/image/https%3A%2F%2Fs3-us-west-2.amazonaws.com%2Fsecure.notion-static.com%2F0cceeed0-0235-4b0f-af88-0b8c377d5b4b%2F_2020-06-09__9.35.23.png?table=block&id=88fd8912-9356-49a4-9fda-a1a63fe96ea9&width=2870&cache=v2)"
      ]
    },
    {
      "cell_type": "code",
      "metadata": {
        "id": "7vEr-OUO9S_Y",
        "colab_type": "code",
        "colab": {
          "base_uri": "https://localhost:8080/",
          "height": 216
        },
        "outputId": "cc315879-12f7-4f58-f0a2-4252e1650c68"
      },
      "source": [
        "import tensorflow as tf\n",
        "import math\n",
        "\n",
        "tf.compat.v1.set_random_seed(2020)\n",
        "\n",
        "def sigmoid(x) :\n",
        "    return 1 / (1 + math.exp(-x))\n",
        "\n",
        "x = 1\n",
        "y = 0\n",
        "w = tf.random.normal([1], 0 , 1)\n",
        "\n",
        "print(sigmoid(x * w))\n",
        "for i in range(1000):\n",
        "    output = sigmoid(x * w)\n",
        "    error = y - output\n",
        "    w = w + x * 0.1 * error\n",
        "\n",
        "    if i % 100 == 99:\n",
        "        print('학습횟수 =', i, 'Error =',error, 'Output =', output)\n"
      ],
      "execution_count": 6,
      "outputs": [
        {
          "output_type": "stream",
          "text": [
            "0.47477188589261\n",
            "학습횟수 = 99 Error = -0.10010598284299604 Output = 0.10010598284299604\n",
            "학습횟수 = 199 Error = -0.05178399422833116 Output = 0.05178399422833116\n",
            "학습횟수 = 299 Error = -0.034590451977903586 Output = 0.034590451977903586\n",
            "학습횟수 = 399 Error = -0.02588962752851373 Output = 0.02588962752851373\n",
            "학습횟수 = 499 Error = -0.020658699939863617 Output = 0.020658699939863617\n",
            "학습횟수 = 599 Error = -0.017174253993457355 Output = 0.017174253993457355\n",
            "학습횟수 = 699 Error = -0.014689506449480992 Output = 0.014689506449480992\n",
            "학습횟수 = 799 Error = -0.012829497265431342 Output = 0.012829497265431342\n",
            "학습횟수 = 899 Error = -0.011385568271837804 Output = 0.011385568271837804\n",
            "학습횟수 = 999 Error = -0.010232493309882492 Output = 0.010232493309882492\n"
          ],
          "name": "stdout"
        }
      ]
    },
    {
      "cell_type": "markdown",
      "metadata": {
        "id": "kr0HVRk8fOom",
        "colab_type": "text"
      },
      "source": [
        "## 3. 딥러닝 순전파 & 역전파 계산\n",
        "\n",
        "딥러닝 강의(__딥러닝 원리[2] 0:55 ~ 4:32 부분__)에 나오는 순전파 & 역전파 계산에 대한 문제 입니다.\n",
        "\n",
        "해당 영상과 다음 이미지를 참고하여 다음 2가지 물음에 답하세요.\n",
        "\n",
        "\n",
        "(1) 학습률이 0.2 일 경우 출력층의 노드값\n",
        "\n",
        "(2) 학습률이 0.1과 0.2 중 기대출력값이 지도데이터 \"3\"과 더 가까운 학습률은?"
      ]
    },
    {
      "cell_type": "markdown",
      "metadata": {
        "id": "CpwPFWhOUzww",
        "colab_type": "text"
      },
      "source": [
        "![대체 텍스트](https://www.notion.so/image/https%3A%2F%2Fs3-us-west-2.amazonaws.com%2Fsecure.notion-static.com%2Ff54dfd45-92ec-44ae-9616-6949d2484a45%2F_2020-06-10__5.22.03.png?table=block&id=ee05da89-3ceb-4ad9-a2d3-c9f68d24d1d9&width=3580&cache=v2)"
      ]
    },
    {
      "cell_type": "markdown",
      "metadata": {
        "id": "B2OVY7w5U3CI",
        "colab_type": "text"
      },
      "source": [
        "## (1) 학습률이 0.2 일 경우 출력층의 노드값 : 1.6\n",
        "\n",
        "\n",
        "## (2) 학습률이 0.1과 0.2 중 기대출력값이 지도데이터 \"3\"과 더 가까운 학습률은? : 0.1"
      ]
    },
    {
      "cell_type": "markdown",
      "metadata": {
        "id": "3su26sFVMo44",
        "colab_type": "text"
      },
      "source": [
        "정답\n",
        "\n",
        "1) : 1.6\n",
        "\n",
        "\n",
        "2) : 0.1"
      ]
    }
  ]
}