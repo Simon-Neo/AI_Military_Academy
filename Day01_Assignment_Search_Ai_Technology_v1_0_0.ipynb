{
  "nbformat": 4,
  "nbformat_minor": 0,
  "metadata": {
    "colab": {
      "name": "Day01_Assignment_Search_Ai_Technology_v1.0.0.ipynb",
      "provenance": [],
      "authorship_tag": "ABX9TyO1uQUBf1wx9H+K9bGkvZPp",
      "include_colab_link": true
    },
    "kernelspec": {
      "name": "python3",
      "display_name": "Python 3"
    }
  },
  "cells": [
    {
      "cell_type": "markdown",
      "metadata": {
        "id": "view-in-github",
        "colab_type": "text"
      },
      "source": [
        "<a href=\"https://colab.research.google.com/github/Simon-Neo/AI_Military_Academy/blob/master/Day01_Assignment_Search_Ai_Technology_v1_0_0.ipynb\" target=\"_parent\"><img src=\"https://colab.research.google.com/assets/colab-badge.svg\" alt=\"Open In Colab\"/></a>"
      ]
    },
    {
      "cell_type": "markdown",
      "metadata": {
        "id": "cL_JggneJ52i",
        "colab_type": "text"
      },
      "source": [
        "TEst"
      ]
    }
  ]
}